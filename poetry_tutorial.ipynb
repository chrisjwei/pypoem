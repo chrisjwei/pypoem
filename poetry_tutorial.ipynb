{
 "cells": [
  {
   "cell_type": "markdown",
   "metadata": {},
   "source": [
    "# Writing Crowdsourced Poetry Using NLTK\n",
    "\n",
    "Poetry is the art of putting words together to form thoughtful and provoking imagery. In the modern age, nobody has time for creative thought anymore -- so lets use technology to create poetry for us.\n",
    "\n",
    "We will be using NLTK, a python natural language processing tool kit. Specifically, we will be using one of NLTK's many corpuses: CMU Pronunciation dictionary, a giant python-like dictionary that provides pronunciations of over 100,000 words."
   ]
  },
  {
   "cell_type": "markdown",
   "metadata": {},
   "source": [
    "## Prerequisites\n",
    "\n",
    "We will need to install nltk, which you should already have if you have anaconda. From here, we will also need to download the CMU Dictionary corpus, which does not come preinstalled with NLTK.\n",
    "\n",
    "The NLTK downloader can be run through any python command line and will appear as a GUI for some operating systems, or some text-based GUI for others."
   ]
  },
  {
   "cell_type": "code",
   "execution_count": null,
   "metadata": {
    "collapsed": false
   },
   "outputs": [],
   "source": [
    "import nltk, sqlite3, re, random\n",
    "try:\n",
    "    from nltk.corpus import cmudict\n",
    "except:\n",
    "    nltk.download()"
   ]
  },
  {
   "cell_type": "markdown",
   "metadata": {},
   "source": [
    "Now, we can create a python dictionary and we can index into it with any particular word. We can see that typical english words including proper nouns exist in our dictionary, but capitalized words do not.\n",
    "\n",
    "Our pronunciation dictionary maps words to an array of different possible pronunciations of the key word, where each pronunciation is an array of phonemes\n",
    "represented by alphabetical characters and optionally a number from 0-2 to denote primary, secondary, or no stress for vowels. You can find more information about phonemes here: http://www.speech.cs.cmu.edu/cgi-bin/cmudict"
   ]
  },
  {
   "cell_type": "code",
   "execution_count": null,
   "metadata": {
    "collapsed": true
   },
   "outputs": [],
   "source": [
    "d = cmudict.dict()"
   ]
  },
  {
   "cell_type": "code",
   "execution_count": null,
   "metadata": {
    "collapsed": false
   },
   "outputs": [],
   "source": [
    "words = [\"hello\", \"world\", \"chris\", \"aint\", \"ain't\", \"pittsburgh\", \"Chris\", \"Hello\", \"0\"]\n",
    "for word in words:\n",
    "    try:\n",
    "        print \"'\" + word + \"': \" + str(d[word])\n",
    "    except KeyError:\n",
    "        print \"'\" + word + \"'\" + \" does not exist\"\n"
   ]
  },
  {
   "cell_type": "markdown",
   "metadata": {},
   "source": [
    "## Poetry library\n",
    "\n",
    "With NLTK's CMU Dictionary, we have all that we need to create a pretty decent poetry library that will let us create interesting poetry. Let us define a class called Line, which will represent a single line of text, Poem, that will represent a poem (a collection of lines), and a class called PoemFactory that will load/store the lines in a database, and create Poem instances given its resources."
   ]
  },
  {
   "cell_type": "markdown",
   "metadata": {},
   "source": [
    "### Line\n",
    "\n",
    "Lets define the basis of our poems, the Line class. We will initialize an instance of Line by providing it some raw content that we will, for now, provide through an array of strings. The raw content will be parsed and verified through the static method verify_and_parse(), providing some diagnostic which will tell us what went wrong for each invalid line. If all is well, our verify_and_parse function will return a list of pronunciations for each word that it found in the input content.\n",
    "\n",
    "From here, we need to collect two more pieces of information: the total syllable count, and the rhyme of that particular line. \n",
    "\n",
    "For syllable count, we simply count the number of phonemes that end with a numeric character.\n",
    "\n",
    "For our rhyme, we need to generate a unique key that classifies the line into a particular rhyme catagory. If our key is too generic, we will get more matches but lower quality rhymes; if our key is too specific we won't get enough matches to make a poem.\n",
    "\n",
    "For this implementation, we will be taking the last vowel and all proceding phonemes and concatenating them as a key."
   ]
  },
  {
   "cell_type": "code",
   "execution_count": null,
   "metadata": {
    "collapsed": false
   },
   "outputs": [],
   "source": [
    "class Line(object):\n",
    "    \n",
    "    regex = re.compile(\"[a-z]+(?:'[a-z]+)?\")\n",
    "    pdict = cmudict.dict()\n",
    "    \n",
    "    @staticmethod\n",
    "    def verify_and_parse(content):\n",
    "        # find all words in content\n",
    "        words = Line.regex.findall(content.lower())\n",
    "        if (len(words) == 0):\n",
    "            return (False, None, \"No words found\")\n",
    "        for word in words:\n",
    "            if not(word in Line.pdict):\n",
    "                return (False, None, \"No pronunciation found for word '\" + word + \"'\")\n",
    "        return (True, [Line.pdict[word][0] for word in words], \"Valid\")\n",
    "    \n",
    "    @staticmethod\n",
    "    def extract_rhyme_phoneme(pron):\n",
    "        # find all the vowels and their indices\n",
    "        vowels = [(i,vow) for (i,vow) in enumerate(pron) if vow[-1].isnumeric()]\n",
    "        # if no vowels present, take the whole pronuncation\n",
    "        if (len(vowels) == 0):\n",
    "            return reduce(lambda x,y: x+y, pron)\n",
    "        # take the last vowel and return the concatenation of the vowel\n",
    "        # and all phonemes occuring after it seperated by spaces\n",
    "        # removing the stress indicator on the vowel\n",
    "        (i,_) = max(vowels, key=lambda x: x[0])\n",
    "        return reduce(lambda x,y: x + \" \" + y, [pron[i][:-1]] + pron[i+1:])\n",
    "        \n",
    "    \n",
    "    def __init__(self, content):\n",
    "        self.content = content.strip().replace('\\n', ' ')\n",
    "        (self.is_valid, self.parsed, self.diagnostics) = Line.verify_and_parse(self.content)\n",
    "        if (self.is_valid):\n",
    "            self.syllable_count = sum([len([syl for syl in pron if syl[-1].isnumeric()]) for pron in self.parsed])\n",
    "            last_pron = self.parsed[-1]\n",
    "            self.rhyme = Line.extract_rhyme_phoneme(last_pron)\n",
    "            \n",
    "    def to_sql_params(self):\n",
    "        return (self.content, self.syllable_count, self.rhyme,)        "
   ]
  },
  {
   "cell_type": "markdown",
   "metadata": {},
   "source": [
    "### Poem\n",
    "\n",
    "Now, we can create a simple Poem class that represents a poem, which intuitively is an ordered collection of Line instances, along with some metadata like author or title."
   ]
  },
  {
   "cell_type": "code",
   "execution_count": null,
   "metadata": {
    "collapsed": true
   },
   "outputs": [],
   "source": [
    "class Poem(object):\n",
    "    \n",
    "    def __init__(self, lines, title, author):\n",
    "        '''\n",
    "            Creates a new poem\n",
    "            args:\n",
    "                lines: list<Line>\n",
    "                title: string\n",
    "                author: string\n",
    "        '''\n",
    "        self.title = title\n",
    "        self.lines = lines\n",
    "        self.author = author\n",
    "    \n",
    "    def __str__(self):\n",
    "        '''\n",
    "            Override default string converter\n",
    "        '''\n",
    "        line_string = reduce(lambda x,y: x + y, map(lambda line: line.content + \"\\n\", self.lines))\n",
    "        author_string = \"-- \" + self.author\n",
    "        title_string = self.title + '\\n'\n",
    "        sep_string = len(self.title)*\"_\" + '\\n\\n'\n",
    "        return title_string + sep_string + line_string + sep_string + author_string"
   ]
  },
  {
   "cell_type": "markdown",
   "metadata": {},
   "source": [
    "### PoemFactory and populating our database\n",
    "\n",
    "Now, lets create a PoemFactory that will create poems for us. All we need to do is feed the PoemFactory resources and tell it to spit out new poems for us. "
   ]
  },
  {
   "cell_type": "code",
   "execution_count": null,
   "metadata": {
    "collapsed": false
   },
   "outputs": [],
   "source": [
    "class ResourceError(Exception):\n",
    "    pass\n",
    "\n",
    "class PoemFactory(object):\n",
    "    def __init__(self, database_path, new=False):\n",
    "        '''\n",
    "            Initializes a new PoemFactory\n",
    "            args:\n",
    "                database_path: string\n",
    "                new: bool\n",
    "        '''\n",
    "        self.conn = sqlite3.connect(database_path)\n",
    "        if (new):\n",
    "            self.reset_database()\n",
    "        \n",
    "    def reset_database(self):\n",
    "        '''\n",
    "            Resets the current database\n",
    "        '''\n",
    "        c = self.conn.cursor()\n",
    "        c.execute('''DROP TABLE IF EXISTS line;''')\n",
    "        c.execute('''CREATE TABLE line (id INTEGER PRIMARY KEY,\n",
    "                                        raw_text TEXT NOT NULL,\n",
    "                                        syllable_count INTEGER NOT NULL,\n",
    "                                        rhyme TEXT);''')\n",
    "        self.conn.commit()\n",
    "    \n",
    "    def insert_many(self, resources):\n",
    "        '''\n",
    "            Updates the current database with new resources\n",
    "            args:\n",
    "                resources: list<string>\n",
    "            returns:\n",
    "                num_failed: int\n",
    "        '''\n",
    "        n = 0\n",
    "        new_lines = []\n",
    "        unsuccessful_lines= []\n",
    "        for resource in resources:\n",
    "            line = Line(resource)\n",
    "            if not(line.is_valid):\n",
    "                unsuccessful_lines.append(line)\n",
    "            else:\n",
    "                new_lines.append(line)\n",
    "        # insert many into our database\n",
    "        c = self.conn.cursor()\n",
    "        c.executemany('''INSERT INTO line (raw_text, syllable_count, rhyme) VALUES (?,?,?)''',\n",
    "                      [line.to_sql_params() for line in new_lines])\n",
    "        self.conn.commit()\n",
    "        return unsuccessful_lines\n",
    "    \n",
    "    def new_poem(self, pattern, syllable_ranges, title=\"Untitled\", author=\"Anonymous\"):\n",
    "        '''\n",
    "            Creates a new poem using the current database following certain constraints\n",
    "            args:\n",
    "                pattern: string\n",
    "                syllable_ranges: dict<string,list<int>>\n",
    "            returns:\n",
    "                poem: Poem\n",
    "        '''\n",
    "        # Check for invalid inputs\n",
    "        if (len(pattern) == 0):\n",
    "            raise ValueError(\"Empty pattern\")\n",
    "            \n",
    "        # Check for valid syllable ranges\n",
    "        pattern_domain = set(pattern)\n",
    "        for p in pattern_domain:\n",
    "            if not(p in syllable_ranges):\n",
    "                raise ValueError(\"Pattern \" + p + \" does not exist in syllable_ranges\")\n",
    "            if len(syllable_ranges[p]) == 0:\n",
    "                raise ValueError(\"Empty syllable_ranges entry for \" + p)\n",
    "        \n",
    "        # Count the number of lines per pattern category\n",
    "        pattern_counts = dict.fromkeys(pattern_domain, 0)\n",
    "        for p in pattern:\n",
    "            pattern_counts[p] += 1\n",
    "        \n",
    "        # Attempt to find lines for each pattern category\n",
    "        c = self.conn.cursor()\n",
    "        \n",
    "        # Assign possible resources for each pattern group\n",
    "        possible_resources = {}\n",
    "        for p in pattern_domain:\n",
    "            requested_count = pattern_counts[p]\n",
    "            requested_syllable_range = syllable_ranges[p]\n",
    "            # group \n",
    "            c.execute('''\n",
    "                SELECT rhyme FROM\n",
    "                    (SELECT l.rhyme, count(id) as num_resources\n",
    "                     FROM line l\n",
    "                     WHERE l.syllable_count in (%s)\n",
    "                     GROUP BY l.rhyme)\n",
    "                WHERE num_resources >= (?)\n",
    "                ''' % ','.join('?'*len(requested_syllable_range)),\n",
    "                      list(requested_syllable_range) + [requested_count])\n",
    "            results = c.fetchall() # results: list[(string)]\n",
    "            if not(results):\n",
    "                raise ResourceError(p)\n",
    "            possible_resources[p] = [result[0] for result in results]\n",
    "\n",
    "        # Now that each pattern group has a set of resources that can fill its requirements\n",
    "        # we need to assign each resource to each pattern. If we want to eliminate collisions\n",
    "        # we will have to do some smart assigning here, but since this is just a tutorial\n",
    "        # and I'm lazy AF lets just assume our db is large enough that collisions are very unlikely\n",
    "        assigned_resources = {}\n",
    "        for p in pattern_domain:\n",
    "            # we will introduce randomness here so we don't get same poem over and over again\n",
    "            resource_group = random.choice(possible_resources[p])\n",
    "            requested_count = pattern_counts[p]\n",
    "            requested_syllable_range = syllable_ranges[p]\n",
    "            c.execute('''\n",
    "                SELECT raw_text\n",
    "                FROM line l\n",
    "                WHERE l.syllable_count in (%s) AND l.rhyme = (?)\n",
    "                ORDER BY RANDOM()\n",
    "                LIMIT (?)\n",
    "            ''' % ','.join('?'*len(requested_syllable_range)),\n",
    "                      list(requested_syllable_range) + [resource_group, requested_count])\n",
    "            assigned_resources[p] = [line[0] for line in c.fetchall()]\n",
    "        \n",
    "        lines = []\n",
    "        for p in pattern:\n",
    "            lines.append(Line(assigned_resources[p].pop()))\n",
    "        \n",
    "        return Poem(lines, title, author)\n",
    "        \n",
    "    "
   ]
  },
  {
   "cell_type": "code",
   "execution_count": null,
   "metadata": {
    "collapsed": false
   },
   "outputs": [],
   "source": [
    "factory = PoemFactory(\"foo.db\", True)\n",
    "resources = [\"Borgleborgleborgle!!!\",\n",
    "             \"I drank Moet with Medusa, gave her shotguns in hell.\",\n",
    "             \"  hello world\",\n",
    "             \"From the split that I lift and inhale, it ain't hard to tell.\",\n",
    "             \"<><>< !!!> <! hello !!!!!goodbye\",\n",
    "             \"<<<<>>><<><>><{}{}{}{}\"]\n",
    "unsuccessful = factory.insert_many(resources)\n",
    "for line in unsuccessful:\n",
    "    print line.diagnostics"
   ]
  },
  {
   "cell_type": "code",
   "execution_count": null,
   "metadata": {
    "collapsed": false
   },
   "outputs": [],
   "source": [
    "c = factory.conn.cursor()\n",
    "c.execute(\"SELECT * FROM line LIMIT 20\")\n",
    "c.fetchall()"
   ]
  },
  {
   "cell_type": "markdown",
   "metadata": {},
   "source": [
    "### Creating a poem\n",
    "\n",
    "Now that we have populated our database with a couple dummy lines, we can try to create a poem."
   ]
  },
  {
   "cell_type": "code",
   "execution_count": null,
   "metadata": {
    "collapsed": false
   },
   "outputs": [],
   "source": [
    "try:\n",
    "    poem = factory.new_poem(pattern=\"AA\", syllable_ranges={\"A\": xrange(13,15)})\n",
    "    print poem\n",
    "except ValueError as e:\n",
    "    print \"Error: \" + str(e)\n",
    "except ResourceError as e:\n",
    "    print \"Not enough resources: \" + str(e)"
   ]
  },
  {
   "cell_type": "markdown",
   "metadata": {},
   "source": [
    "## Using our poetry library\n",
    "\n",
    "Now that we have established our poetry library, we can now use our PoemFactory to save text from various sources and generate poetry! But first, lets look at some common poem structures and see how we can express them as a call to PoemFactory.new_poem().\n",
    "\n",
    "#### Triplet \n",
    "`PoemFactory.new_poem(\"AAA\", {\"A\":[7,8,9]})`  \n",
    "*Shall we go dance the hay, the hay?  \n",
    "Never pipe could ever play  \n",
    "Better shepherd’s roundelay.*\n",
    "#### Limmerick\n",
    "`PoemFactory.new_poem(\"AABBA\", {\"A\":[7,8], \"B\":[7,8]})`  \n",
    "*There was an Old Man with a beard  \n",
    "Who said, 'It is just as I feared!  \n",
    "Two Owls and a Hen,  \n",
    "Four Larks and a Wren,  \n",
    "Have all built their nests in my beard!'*\n",
    "#### Haiku\n",
    "`PoemFactory.new_poem(\"ABC\", {\"A\":[5], \"B\":[7], \"C\":[5]})`  \n",
    "*Light of the moon  \n",
    "Moves west, flowers' shadows  \n",
    "Creep eastward.*"
   ]
  },
  {
   "cell_type": "markdown",
   "metadata": {},
   "source": [
    "### Example: Limmericks from Marvel Movies\n",
    "\n",
    "As an example, we will be using the scripts from all Marvel Movies as our datasource, and we will use our poem library to automatically generate limmericks.\n",
    "\n",
    "This example requires `pysrt` which can be easily installed through `pip install pysrt` as we will be using .SRT subtitle files which will naturally split the scripts from the movies into reasonable chunks."
   ]
  },
  {
   "cell_type": "code",
   "execution_count": null,
   "metadata": {
    "collapsed": false
   },
   "outputs": [],
   "source": [
    "import pysrt, glob"
   ]
  },
  {
   "cell_type": "code",
   "execution_count": null,
   "metadata": {
    "collapsed": false
   },
   "outputs": [],
   "source": [
    "marvel_poem_factory = PoemFactory(\"marvel.db\", True)\n",
    "# load all the srt files\n",
    "lines = []\n",
    "for filename in glob.glob('marvel_subtitles/*.srt'):\n",
    "    subs = pysrt.open(filename, encoding='iso-8859-1')\n",
    "    lines += [sub.text for sub in subs]\n",
    "unsuccessful = marvel_poem_factory.insert_many(lines)\n",
    "print str(len(unsuccessful)) + \"/\" + str(len(lines)) + \" failed to parse\""
   ]
  },
  {
   "cell_type": "code",
   "execution_count": null,
   "metadata": {
    "collapsed": false
   },
   "outputs": [],
   "source": [
    "print marvel_poem_factory.new_poem(\"AABBA\", {\"A\":[7,8], \"B\":[7,8]}, \"A Marvel Limmerick\", \"Chris\")"
   ]
  },
  {
   "cell_type": "markdown",
   "metadata": {},
   "source": [
    "### Remarks\n",
    "\n",
    "Something that you can see happening is that a lot of times you'll get the same word rhyming to the same word, which in my honest opinion is just bad poetry. Some improvements we can make to this library is upgrading the resource management so we don't see the same word over and over again. The rhyming scheme is not super accurate but works for most cases. We should also make bookkeeping easier so that you can store other metadata about each line you insert into so you can do stuff like this: https://vimeo.com/165395316 you can check out the code for this here https://github.com/chrisjwei/iacd-final which does not support poem structures, but has a much more developed rhyming algorithm and does everything in memory (SHAMELESS PLUG).\n",
    "\n",
    "Here is a really nice one that really capture the essence of marvel movies\n",
    "\n",
    "*It's just a metaphor, dude.  \n",
    "Big and green and buck-ass nude.  \n",
    "It's very hard to get hold of.  \n",
    "Even from the people they love.  \n",
    "I thought you'd be in a good mood.*"
   ]
  },
  {
   "cell_type": "code",
   "execution_count": null,
   "metadata": {
    "collapsed": true
   },
   "outputs": [],
   "source": []
  }
 ],
 "metadata": {
  "kernelspec": {
   "display_name": "Python [Root]",
   "language": "python",
   "name": "Python [Root]"
  },
  "language_info": {
   "codemirror_mode": {
    "name": "ipython",
    "version": 2
   },
   "file_extension": ".py",
   "mimetype": "text/x-python",
   "name": "python",
   "nbconvert_exporter": "python",
   "pygments_lexer": "ipython2",
   "version": "2.7.12"
  }
 },
 "nbformat": 4,
 "nbformat_minor": 0
}
